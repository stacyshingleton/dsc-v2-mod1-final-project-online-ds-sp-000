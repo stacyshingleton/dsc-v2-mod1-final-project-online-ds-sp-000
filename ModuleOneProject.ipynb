{
 "cells": [
  {
   "cell_type": "markdown",
   "metadata": {},
   "source": [
    "This Jupyter notebook documents the work completed in order to create a multivariate linear regression for the module 1 final project. It includes importing the data from kc_house_data.csv and cleaning the data. Cleaning will include identifying and possibly changing data types, removing all duplicates, and searching for and replacing all NAN values. Next, relationships between each variable and the price of each homes sold will be analyzed and possibly visualized. Finally, a multivariate linear regression will be created using select predictors, and the regression will be validated using train-test-split and cross validation. "
   ]
  },
  {
   "cell_type": "markdown",
   "metadata": {},
   "source": [
    "****\n",
    "The first section of this project is to import the data set and all libraries that will be needed to complete the data cleaning and interpretation. \n",
    "****"
   ]
  },
  {
   "cell_type": "code",
   "execution_count": 1,
   "metadata": {},
   "outputs": [],
   "source": [
    "# import all necessary libaries\n",
    "\n",
    "import pandas as pd\n",
    "import matplotlib.pyplot as plt\n",
    "%matplotlib inline\n",
    "import numpy as np\n",
    "import seaborn as sns"
   ]
  },
  {
   "cell_type": "code",
   "execution_count": 2,
   "metadata": {
    "scrolled": true
   },
   "outputs": [
    {
     "data": {
      "text/html": [
       "<div>\n",
       "<style scoped>\n",
       "    .dataframe tbody tr th:only-of-type {\n",
       "        vertical-align: middle;\n",
       "    }\n",
       "\n",
       "    .dataframe tbody tr th {\n",
       "        vertical-align: top;\n",
       "    }\n",
       "\n",
       "    .dataframe thead th {\n",
       "        text-align: right;\n",
       "    }\n",
       "</style>\n",
       "<table border=\"1\" class=\"dataframe\">\n",
       "  <thead>\n",
       "    <tr style=\"text-align: right;\">\n",
       "      <th></th>\n",
       "      <th>id</th>\n",
       "      <th>date</th>\n",
       "      <th>price</th>\n",
       "      <th>bedrooms</th>\n",
       "      <th>bathrooms</th>\n",
       "      <th>sqft_living</th>\n",
       "      <th>sqft_lot</th>\n",
       "      <th>floors</th>\n",
       "      <th>waterfront</th>\n",
       "      <th>view</th>\n",
       "      <th>...</th>\n",
       "      <th>grade</th>\n",
       "      <th>sqft_above</th>\n",
       "      <th>sqft_basement</th>\n",
       "      <th>yr_built</th>\n",
       "      <th>yr_renovated</th>\n",
       "      <th>zipcode</th>\n",
       "      <th>lat</th>\n",
       "      <th>long</th>\n",
       "      <th>sqft_living15</th>\n",
       "      <th>sqft_lot15</th>\n",
       "    </tr>\n",
       "  </thead>\n",
       "  <tbody>\n",
       "    <tr>\n",
       "      <td>0</td>\n",
       "      <td>7129300520</td>\n",
       "      <td>10/13/2014</td>\n",
       "      <td>221900.0</td>\n",
       "      <td>3</td>\n",
       "      <td>1.00</td>\n",
       "      <td>1180</td>\n",
       "      <td>5650</td>\n",
       "      <td>1.0</td>\n",
       "      <td>NaN</td>\n",
       "      <td>0.0</td>\n",
       "      <td>...</td>\n",
       "      <td>7</td>\n",
       "      <td>1180</td>\n",
       "      <td>0.0</td>\n",
       "      <td>1955</td>\n",
       "      <td>0.0</td>\n",
       "      <td>98178</td>\n",
       "      <td>47.5112</td>\n",
       "      <td>-122.257</td>\n",
       "      <td>1340</td>\n",
       "      <td>5650</td>\n",
       "    </tr>\n",
       "    <tr>\n",
       "      <td>1</td>\n",
       "      <td>6414100192</td>\n",
       "      <td>12/9/2014</td>\n",
       "      <td>538000.0</td>\n",
       "      <td>3</td>\n",
       "      <td>2.25</td>\n",
       "      <td>2570</td>\n",
       "      <td>7242</td>\n",
       "      <td>2.0</td>\n",
       "      <td>0.0</td>\n",
       "      <td>0.0</td>\n",
       "      <td>...</td>\n",
       "      <td>7</td>\n",
       "      <td>2170</td>\n",
       "      <td>400.0</td>\n",
       "      <td>1951</td>\n",
       "      <td>1991.0</td>\n",
       "      <td>98125</td>\n",
       "      <td>47.7210</td>\n",
       "      <td>-122.319</td>\n",
       "      <td>1690</td>\n",
       "      <td>7639</td>\n",
       "    </tr>\n",
       "    <tr>\n",
       "      <td>2</td>\n",
       "      <td>5631500400</td>\n",
       "      <td>2/25/2015</td>\n",
       "      <td>180000.0</td>\n",
       "      <td>2</td>\n",
       "      <td>1.00</td>\n",
       "      <td>770</td>\n",
       "      <td>10000</td>\n",
       "      <td>1.0</td>\n",
       "      <td>0.0</td>\n",
       "      <td>0.0</td>\n",
       "      <td>...</td>\n",
       "      <td>6</td>\n",
       "      <td>770</td>\n",
       "      <td>0.0</td>\n",
       "      <td>1933</td>\n",
       "      <td>NaN</td>\n",
       "      <td>98028</td>\n",
       "      <td>47.7379</td>\n",
       "      <td>-122.233</td>\n",
       "      <td>2720</td>\n",
       "      <td>8062</td>\n",
       "    </tr>\n",
       "    <tr>\n",
       "      <td>3</td>\n",
       "      <td>2487200875</td>\n",
       "      <td>12/9/2014</td>\n",
       "      <td>604000.0</td>\n",
       "      <td>4</td>\n",
       "      <td>3.00</td>\n",
       "      <td>1960</td>\n",
       "      <td>5000</td>\n",
       "      <td>1.0</td>\n",
       "      <td>0.0</td>\n",
       "      <td>0.0</td>\n",
       "      <td>...</td>\n",
       "      <td>7</td>\n",
       "      <td>1050</td>\n",
       "      <td>910.0</td>\n",
       "      <td>1965</td>\n",
       "      <td>0.0</td>\n",
       "      <td>98136</td>\n",
       "      <td>47.5208</td>\n",
       "      <td>-122.393</td>\n",
       "      <td>1360</td>\n",
       "      <td>5000</td>\n",
       "    </tr>\n",
       "    <tr>\n",
       "      <td>4</td>\n",
       "      <td>1954400510</td>\n",
       "      <td>2/18/2015</td>\n",
       "      <td>510000.0</td>\n",
       "      <td>3</td>\n",
       "      <td>2.00</td>\n",
       "      <td>1680</td>\n",
       "      <td>8080</td>\n",
       "      <td>1.0</td>\n",
       "      <td>0.0</td>\n",
       "      <td>0.0</td>\n",
       "      <td>...</td>\n",
       "      <td>8</td>\n",
       "      <td>1680</td>\n",
       "      <td>0.0</td>\n",
       "      <td>1987</td>\n",
       "      <td>0.0</td>\n",
       "      <td>98074</td>\n",
       "      <td>47.6168</td>\n",
       "      <td>-122.045</td>\n",
       "      <td>1800</td>\n",
       "      <td>7503</td>\n",
       "    </tr>\n",
       "  </tbody>\n",
       "</table>\n",
       "<p>5 rows × 21 columns</p>\n",
       "</div>"
      ],
      "text/plain": [
       "           id        date     price  bedrooms  bathrooms  sqft_living  \\\n",
       "0  7129300520  10/13/2014  221900.0         3       1.00         1180   \n",
       "1  6414100192   12/9/2014  538000.0         3       2.25         2570   \n",
       "2  5631500400   2/25/2015  180000.0         2       1.00          770   \n",
       "3  2487200875   12/9/2014  604000.0         4       3.00         1960   \n",
       "4  1954400510   2/18/2015  510000.0         3       2.00         1680   \n",
       "\n",
       "   sqft_lot  floors  waterfront  view  ...  grade  sqft_above  sqft_basement  \\\n",
       "0      5650     1.0         NaN   0.0  ...      7        1180            0.0   \n",
       "1      7242     2.0         0.0   0.0  ...      7        2170          400.0   \n",
       "2     10000     1.0         0.0   0.0  ...      6         770            0.0   \n",
       "3      5000     1.0         0.0   0.0  ...      7        1050          910.0   \n",
       "4      8080     1.0         0.0   0.0  ...      8        1680            0.0   \n",
       "\n",
       "  yr_built  yr_renovated  zipcode      lat     long  sqft_living15  sqft_lot15  \n",
       "0     1955           0.0    98178  47.5112 -122.257           1340        5650  \n",
       "1     1951        1991.0    98125  47.7210 -122.319           1690        7639  \n",
       "2     1933           NaN    98028  47.7379 -122.233           2720        8062  \n",
       "3     1965           0.0    98136  47.5208 -122.393           1360        5000  \n",
       "4     1987           0.0    98074  47.6168 -122.045           1800        7503  \n",
       "\n",
       "[5 rows x 21 columns]"
      ]
     },
     "execution_count": 2,
     "metadata": {},
     "output_type": "execute_result"
    }
   ],
   "source": [
    "# importing data and displaying first 5 rows\n",
    "\n",
    "df = pd.read_csv('kc_house_data.csv')\n",
    "df.head()"
   ]
  },
  {
   "cell_type": "code",
   "execution_count": 3,
   "metadata": {},
   "outputs": [
    {
     "name": "stdout",
     "output_type": "stream",
     "text": [
      "<class 'pandas.core.frame.DataFrame'>\n",
      "RangeIndex: 21597 entries, 0 to 21596\n",
      "Data columns (total 21 columns):\n",
      "id               21597 non-null int64\n",
      "date             21597 non-null object\n",
      "price            21597 non-null float64\n",
      "bedrooms         21597 non-null int64\n",
      "bathrooms        21597 non-null float64\n",
      "sqft_living      21597 non-null int64\n",
      "sqft_lot         21597 non-null int64\n",
      "floors           21597 non-null float64\n",
      "waterfront       19221 non-null float64\n",
      "view             21534 non-null float64\n",
      "condition        21597 non-null int64\n",
      "grade            21597 non-null int64\n",
      "sqft_above       21597 non-null int64\n",
      "sqft_basement    21597 non-null object\n",
      "yr_built         21597 non-null int64\n",
      "yr_renovated     17755 non-null float64\n",
      "zipcode          21597 non-null int64\n",
      "lat              21597 non-null float64\n",
      "long             21597 non-null float64\n",
      "sqft_living15    21597 non-null int64\n",
      "sqft_lot15       21597 non-null int64\n",
      "dtypes: float64(8), int64(11), object(2)\n",
      "memory usage: 3.5+ MB\n"
     ]
    }
   ],
   "source": [
    "# Check data type of each column\n",
    "\n",
    "df.info()"
   ]
  },
  {
   "cell_type": "code",
   "execution_count": 4,
   "metadata": {},
   "outputs": [
    {
     "name": "stdout",
     "output_type": "stream",
     "text": [
      "<class 'pandas.core.frame.DataFrame'>\n",
      "RangeIndex: 21597 entries, 0 to 21596\n",
      "Data columns (total 21 columns):\n",
      "id               21597 non-null int64\n",
      "date             21597 non-null datetime64[ns]\n",
      "price            21597 non-null float64\n",
      "bedrooms         21597 non-null int64\n",
      "bathrooms        21597 non-null float64\n",
      "sqft_living      21597 non-null int64\n",
      "sqft_lot         21597 non-null int64\n",
      "floors           21597 non-null float64\n",
      "waterfront       19221 non-null float64\n",
      "view             21534 non-null float64\n",
      "condition        21597 non-null int64\n",
      "grade            21597 non-null int64\n",
      "sqft_above       21597 non-null int64\n",
      "sqft_basement    21597 non-null object\n",
      "yr_built         21597 non-null int64\n",
      "yr_renovated     17755 non-null float64\n",
      "zipcode          21597 non-null int64\n",
      "lat              21597 non-null float64\n",
      "long             21597 non-null float64\n",
      "sqft_living15    21597 non-null int64\n",
      "sqft_lot15       21597 non-null int64\n",
      "dtypes: datetime64[ns](1), float64(8), int64(11), object(1)\n",
      "memory usage: 3.5+ MB\n"
     ]
    }
   ],
   "source": [
    "# need to change date object data type to a datetime data type\n",
    "\n",
    "df['date'] = pd.to_datetime(df['date'])\n",
    "df.info()"
   ]
  },
  {
   "cell_type": "code",
   "execution_count": 5,
   "metadata": {},
   "outputs": [
    {
     "name": "stdout",
     "output_type": "stream",
     "text": [
      "<class 'pandas.core.frame.DataFrame'>\n",
      "RangeIndex: 21597 entries, 0 to 21596\n",
      "Data columns (total 21 columns):\n",
      "id               21597 non-null int64\n",
      "date             21597 non-null datetime64[ns]\n",
      "price            21597 non-null float64\n",
      "bedrooms         21597 non-null int64\n",
      "bathrooms        21597 non-null float64\n",
      "sqft_living      21597 non-null int64\n",
      "sqft_lot         21597 non-null int64\n",
      "floors           21597 non-null float64\n",
      "waterfront       19221 non-null float64\n",
      "view             21534 non-null float64\n",
      "condition        21597 non-null int64\n",
      "grade            21597 non-null int64\n",
      "sqft_above       21597 non-null int64\n",
      "sqft_basement    21597 non-null float64\n",
      "yr_built         21597 non-null int64\n",
      "yr_renovated     17755 non-null float64\n",
      "zipcode          21597 non-null int64\n",
      "lat              21597 non-null float64\n",
      "long             21597 non-null float64\n",
      "sqft_living15    21597 non-null int64\n",
      "sqft_lot15       21597 non-null int64\n",
      "dtypes: datetime64[ns](1), float64(9), int64(11)\n",
      "memory usage: 3.5 MB\n"
     ]
    }
   ],
   "source": [
    "# sqft_basement is an object - must contain a placeholder value\n",
    "# contains a placeholder, '?'\n",
    "# replacing '?' with (sqft_living minus sqft_above) then converting all values to float\n",
    "\n",
    "df['sqft_basement'].unique()\n",
    "x = df['sqft_basement'] == '?'\n",
    "df.loc[x, 'sqft_basement'] = df.loc[x, 'sqft_living'] - df.loc[x, 'sqft_above']\n",
    "df['sqft_basement'] = df['sqft_basement'].astype(float)\n",
    "df.info()"
   ]
  },
  {
   "cell_type": "code",
   "execution_count": 6,
   "metadata": {},
   "outputs": [
    {
     "name": "stdout",
     "output_type": "stream",
     "text": [
      "<class 'pandas.core.frame.DataFrame'>\n",
      "Int64Index: 21420 entries, 0 to 21596\n",
      "Data columns (total 21 columns):\n",
      "id               21420 non-null int64\n",
      "date             21420 non-null datetime64[ns]\n",
      "price            21420 non-null float64\n",
      "bedrooms         21420 non-null int64\n",
      "bathrooms        21420 non-null float64\n",
      "sqft_living      21420 non-null int64\n",
      "sqft_lot         21420 non-null int64\n",
      "floors           21420 non-null float64\n",
      "waterfront       19067 non-null float64\n",
      "view             21357 non-null float64\n",
      "condition        21420 non-null int64\n",
      "grade            21420 non-null int64\n",
      "sqft_above       21420 non-null int64\n",
      "sqft_basement    21420 non-null float64\n",
      "yr_built         21420 non-null int64\n",
      "yr_renovated     17616 non-null float64\n",
      "zipcode          21420 non-null int64\n",
      "lat              21420 non-null float64\n",
      "long             21420 non-null float64\n",
      "sqft_living15    21420 non-null int64\n",
      "sqft_lot15       21420 non-null int64\n",
      "dtypes: datetime64[ns](1), float64(9), int64(11)\n",
      "memory usage: 3.6 MB\n"
     ]
    }
   ],
   "source": [
    "# checking for duplicate values based on id and only keeping the first mention\n",
    "\n",
    "df = df.drop_duplicates(subset='id', keep=\"first\")\n",
    "df.info()"
   ]
  },
  {
   "cell_type": "code",
   "execution_count": 7,
   "metadata": {},
   "outputs": [
    {
     "data": {
      "text/plain": [
       "Text(0.5, 0, 'Price of Home')"
      ]
     },
     "execution_count": 7,
     "metadata": {},
     "output_type": "execute_result"
    },
    {
     "data": {
      "image/png": "[encoded data removed]",
      "text/plain": [
       "<Figure size 432x288 with 1 Axes>"
      ]
     },
     "metadata": {
      "needs_background": "light"
     },
     "output_type": "display_data"
    }
   ],
   "source": [
    "# checking for normal distribution of data\n",
    "# cutting down dataframe to prices under 700,000 for close to normal distribution\n",
    "\n",
    "df = df.loc[(df['price'] <= 700000)]\n",
    "df['price'].plot.hist(edgecolor='black')\n",
    "plt.xlabel('Price of Home')"
   ]
  },
  {
   "cell_type": "code",
   "execution_count": 8,
   "metadata": {},
   "outputs": [
    {
     "data": {
      "text/plain": [
       "id                  0\n",
       "date                0\n",
       "price               0\n",
       "bedrooms            0\n",
       "bathrooms           0\n",
       "sqft_living         0\n",
       "sqft_lot            0\n",
       "floors              0\n",
       "waterfront       1889\n",
       "view               51\n",
       "condition           0\n",
       "grade               0\n",
       "sqft_above          0\n",
       "sqft_basement       0\n",
       "yr_built            0\n",
       "yr_renovated     3053\n",
       "zipcode             0\n",
       "lat                 0\n",
       "long                0\n",
       "sqft_living15       0\n",
       "sqft_lot15          0\n",
       "dtype: int64"
      ]
     },
     "execution_count": 8,
     "metadata": {},
     "output_type": "execute_result"
    }
   ],
   "source": [
    "# checking for NAN values - need to decide what to do with each\n",
    "\n",
    "df.isna().sum()"
   ]
  },
  {
   "cell_type": "code",
   "execution_count": 9,
   "metadata": {},
   "outputs": [
    {
     "name": "stdout",
     "output_type": "stream",
     "text": [
      "0.0    15206\n",
      "1.0       28\n",
      "Name: waterfront, dtype: int64\n"
     ]
    },
    {
     "data": {
      "text/plain": [
       "id                  0\n",
       "date                0\n",
       "price               0\n",
       "bedrooms            0\n",
       "bathrooms           0\n",
       "sqft_living         0\n",
       "sqft_lot            0\n",
       "floors              0\n",
       "waterfront          0\n",
       "view               51\n",
       "condition           0\n",
       "grade               0\n",
       "sqft_above          0\n",
       "sqft_basement       0\n",
       "yr_built            0\n",
       "yr_renovated     3053\n",
       "zipcode             0\n",
       "lat                 0\n",
       "long                0\n",
       "sqft_living15       0\n",
       "sqft_lot15          0\n",
       "dtype: int64"
      ]
     },
     "execution_count": 9,
     "metadata": {},
     "output_type": "execute_result"
    }
   ],
   "source": [
    "# handling waterfront nan\n",
    "\n",
    "print(df['waterfront'].value_counts())\n",
    "\n",
    "# almost 100% of waterfront values are 0, so going to replace all waterfront NAN with zero\n",
    "\n",
    "df['waterfront'] = df['waterfront'].fillna(value = 0)\n",
    "df.isna().sum()\n",
    "\n",
    "# will need to proceed with caution if waterfront is used for regression"
   ]
  },
  {
   "cell_type": "code",
   "execution_count": 10,
   "metadata": {},
   "outputs": [
    {
     "data": {
      "text/plain": [
       "id                  0\n",
       "date                0\n",
       "price               0\n",
       "bedrooms            0\n",
       "bathrooms           0\n",
       "sqft_living         0\n",
       "sqft_lot            0\n",
       "floors              0\n",
       "waterfront          0\n",
       "view                0\n",
       "condition           0\n",
       "grade               0\n",
       "sqft_above          0\n",
       "sqft_basement       0\n",
       "yr_built            0\n",
       "yr_renovated     3053\n",
       "zipcode             0\n",
       "lat                 0\n",
       "long                0\n",
       "sqft_living15       0\n",
       "sqft_lot15          0\n",
       "dtype: int64"
      ]
     },
     "execution_count": 10,
     "metadata": {},
     "output_type": "execute_result"
    }
   ],
   "source": [
    "# handling view NAN\n",
    "# going to replace NAN view values with mean of view\n",
    "\n",
    "df['view'].value_counts()\n",
    "df['view'] = df['view'].fillna(df['view'].mean())\n",
    "df.isna().sum()"
   ]
  },
  {
   "cell_type": "code",
   "execution_count": 11,
   "metadata": {},
   "outputs": [],
   "source": [
    "# have nan values in yr_renovated\n",
    "# changing nan to 0 and creating new column, yrs_since_renovation\n",
    "\n",
    "df['yr_renovated'] = df['yr_renovated'].fillna(0)\n",
    "y = df['yr_renovated'] == 0\n",
    "df.loc[y, 'yrs_since_renovation'] = 2015 - df.loc[y, 'yr_built']\n",
    "z = df['yr_renovated'] != 0\n",
    "df.loc[z, 'yrs_since_renovation'] = 2015 - df.loc[z, 'yr_renovated']"
   ]
  },
  {
   "cell_type": "code",
   "execution_count": 12,
   "metadata": {},
   "outputs": [
    {
     "data": {
      "text/html": [
       "<div>\n",
       "<style scoped>\n",
       "    .dataframe tbody tr th:only-of-type {\n",
       "        vertical-align: middle;\n",
       "    }\n",
       "\n",
       "    .dataframe tbody tr th {\n",
       "        vertical-align: top;\n",
       "    }\n",
       "\n",
       "    .dataframe thead th {\n",
       "        text-align: right;\n",
       "    }\n",
       "</style>\n",
       "<table border=\"1\" class=\"dataframe\">\n",
       "  <thead>\n",
       "    <tr style=\"text-align: right;\">\n",
       "      <th></th>\n",
       "      <th>id</th>\n",
       "      <th>price</th>\n",
       "      <th>bedrooms</th>\n",
       "      <th>bathrooms</th>\n",
       "      <th>sqft_living</th>\n",
       "      <th>sqft_lot</th>\n",
       "      <th>floors</th>\n",
       "      <th>waterfront</th>\n",
       "      <th>view</th>\n",
       "      <th>condition</th>\n",
       "      <th>...</th>\n",
       "      <th>sqft_above</th>\n",
       "      <th>sqft_basement</th>\n",
       "      <th>yr_built</th>\n",
       "      <th>yr_renovated</th>\n",
       "      <th>zipcode</th>\n",
       "      <th>lat</th>\n",
       "      <th>long</th>\n",
       "      <th>sqft_living15</th>\n",
       "      <th>sqft_lot15</th>\n",
       "      <th>yrs_since_renovation</th>\n",
       "    </tr>\n",
       "  </thead>\n",
       "  <tbody>\n",
       "    <tr>\n",
       "      <td>count</td>\n",
       "      <td>1.712200e+04</td>\n",
       "      <td>17122.000000</td>\n",
       "      <td>17122.000000</td>\n",
       "      <td>17122.000000</td>\n",
       "      <td>17122.000000</td>\n",
       "      <td>1.712200e+04</td>\n",
       "      <td>17122.000000</td>\n",
       "      <td>17122.000000</td>\n",
       "      <td>17122.000000</td>\n",
       "      <td>17122.000000</td>\n",
       "      <td>...</td>\n",
       "      <td>17122.000000</td>\n",
       "      <td>17122.000000</td>\n",
       "      <td>17122.000000</td>\n",
       "      <td>17122.000000</td>\n",
       "      <td>17122.000000</td>\n",
       "      <td>17122.000000</td>\n",
       "      <td>17122.000000</td>\n",
       "      <td>17122.000000</td>\n",
       "      <td>17122.000000</td>\n",
       "      <td>17122.000000</td>\n",
       "    </tr>\n",
       "    <tr>\n",
       "      <td>mean</td>\n",
       "      <td>4.614854e+09</td>\n",
       "      <td>409273.608574</td>\n",
       "      <td>3.244364</td>\n",
       "      <td>1.956708</td>\n",
       "      <td>1815.242904</td>\n",
       "      <td>1.339702e+04</td>\n",
       "      <td>1.435814</td>\n",
       "      <td>0.001635</td>\n",
       "      <td>0.117802</td>\n",
       "      <td>3.399486</td>\n",
       "      <td>...</td>\n",
       "      <td>1573.920336</td>\n",
       "      <td>241.322567</td>\n",
       "      <td>1970.482070</td>\n",
       "      <td>49.821633</td>\n",
       "      <td>98079.357552</td>\n",
       "      <td>47.545336</td>\n",
       "      <td>-122.216268</td>\n",
       "      <td>1805.952692</td>\n",
       "      <td>11789.257680</td>\n",
       "      <td>43.152611</td>\n",
       "    </tr>\n",
       "    <tr>\n",
       "      <td>std</td>\n",
       "      <td>2.858583e+09</td>\n",
       "      <td>139880.127217</td>\n",
       "      <td>0.863352</td>\n",
       "      <td>0.668374</td>\n",
       "      <td>652.021869</td>\n",
       "      <td>3.580784e+04</td>\n",
       "      <td>0.535736</td>\n",
       "      <td>0.040407</td>\n",
       "      <td>0.519696</td>\n",
       "      <td>0.640673</td>\n",
       "      <td>...</td>\n",
       "      <td>610.607798</td>\n",
       "      <td>379.019720</td>\n",
       "      <td>28.482936</td>\n",
       "      <td>311.175657</td>\n",
       "      <td>53.790044</td>\n",
       "      <td>0.147010</td>\n",
       "      <td>0.142910</td>\n",
       "      <td>512.272202</td>\n",
       "      <td>24615.187701</td>\n",
       "      <td>28.149455</td>\n",
       "    </tr>\n",
       "    <tr>\n",
       "      <td>min</td>\n",
       "      <td>1.000102e+06</td>\n",
       "      <td>78000.000000</td>\n",
       "      <td>1.000000</td>\n",
       "      <td>0.500000</td>\n",
       "      <td>370.000000</td>\n",
       "      <td>5.200000e+02</td>\n",
       "      <td>1.000000</td>\n",
       "      <td>0.000000</td>\n",
       "      <td>0.000000</td>\n",
       "      <td>1.000000</td>\n",
       "      <td>...</td>\n",
       "      <td>370.000000</td>\n",
       "      <td>0.000000</td>\n",
       "      <td>1900.000000</td>\n",
       "      <td>0.000000</td>\n",
       "      <td>98001.000000</td>\n",
       "      <td>47.155900</td>\n",
       "      <td>-122.519000</td>\n",
       "      <td>399.000000</td>\n",
       "      <td>651.000000</td>\n",
       "      <td>0.000000</td>\n",
       "    </tr>\n",
       "    <tr>\n",
       "      <td>25%</td>\n",
       "      <td>2.172000e+09</td>\n",
       "      <td>299000.000000</td>\n",
       "      <td>3.000000</td>\n",
       "      <td>1.500000</td>\n",
       "      <td>1330.000000</td>\n",
       "      <td>5.000000e+03</td>\n",
       "      <td>1.000000</td>\n",
       "      <td>0.000000</td>\n",
       "      <td>0.000000</td>\n",
       "      <td>3.000000</td>\n",
       "      <td>...</td>\n",
       "      <td>1130.000000</td>\n",
       "      <td>0.000000</td>\n",
       "      <td>1952.000000</td>\n",
       "      <td>0.000000</td>\n",
       "      <td>98033.000000</td>\n",
       "      <td>47.435300</td>\n",
       "      <td>-122.331000</td>\n",
       "      <td>1430.000000</td>\n",
       "      <td>5026.000000</td>\n",
       "      <td>19.000000</td>\n",
       "    </tr>\n",
       "    <tr>\n",
       "      <td>50%</td>\n",
       "      <td>3.936900e+09</td>\n",
       "      <td>399950.000000</td>\n",
       "      <td>3.000000</td>\n",
       "      <td>2.000000</td>\n",
       "      <td>1730.000000</td>\n",
       "      <td>7.434000e+03</td>\n",
       "      <td>1.000000</td>\n",
       "      <td>0.000000</td>\n",
       "      <td>0.000000</td>\n",
       "      <td>3.000000</td>\n",
       "      <td>...</td>\n",
       "      <td>1420.000000</td>\n",
       "      <td>0.000000</td>\n",
       "      <td>1973.000000</td>\n",
       "      <td>0.000000</td>\n",
       "      <td>98065.000000</td>\n",
       "      <td>47.549100</td>\n",
       "      <td>-122.247000</td>\n",
       "      <td>1720.000000</td>\n",
       "      <td>7500.000000</td>\n",
       "      <td>40.000000</td>\n",
       "    </tr>\n",
       "    <tr>\n",
       "      <td>75%</td>\n",
       "      <td>7.327500e+09</td>\n",
       "      <td>518875.000000</td>\n",
       "      <td>4.000000</td>\n",
       "      <td>2.500000</td>\n",
       "      <td>2220.000000</td>\n",
       "      <td>1.000000e+04</td>\n",
       "      <td>2.000000</td>\n",
       "      <td>0.000000</td>\n",
       "      <td>0.000000</td>\n",
       "      <td>4.000000</td>\n",
       "      <td>...</td>\n",
       "      <td>1899.750000</td>\n",
       "      <td>460.000000</td>\n",
       "      <td>1994.000000</td>\n",
       "      <td>0.000000</td>\n",
       "      <td>98118.000000</td>\n",
       "      <td>47.681075</td>\n",
       "      <td>-122.129000</td>\n",
       "      <td>2120.000000</td>\n",
       "      <td>9624.750000</td>\n",
       "      <td>62.000000</td>\n",
       "    </tr>\n",
       "    <tr>\n",
       "      <td>max</td>\n",
       "      <td>9.900000e+09</td>\n",
       "      <td>700000.000000</td>\n",
       "      <td>11.000000</td>\n",
       "      <td>7.500000</td>\n",
       "      <td>5461.000000</td>\n",
       "      <td>1.651359e+06</td>\n",
       "      <td>3.500000</td>\n",
       "      <td>1.000000</td>\n",
       "      <td>4.000000</td>\n",
       "      <td>5.000000</td>\n",
       "      <td>...</td>\n",
       "      <td>5450.000000</td>\n",
       "      <td>2196.000000</td>\n",
       "      <td>2015.000000</td>\n",
       "      <td>2015.000000</td>\n",
       "      <td>98199.000000</td>\n",
       "      <td>47.777600</td>\n",
       "      <td>-121.315000</td>\n",
       "      <td>4410.000000</td>\n",
       "      <td>438213.000000</td>\n",
       "      <td>115.000000</td>\n",
       "    </tr>\n",
       "  </tbody>\n",
       "</table>\n",
       "<p>8 rows × 21 columns</p>\n",
       "</div>"
      ],
      "text/plain": [
       "                 id          price      bedrooms     bathrooms   sqft_living  \\\n",
       "count  1.712200e+04   17122.000000  17122.000000  17122.000000  17122.000000   \n",
       "mean   4.614854e+09  409273.608574      3.244364      1.956708   1815.242904   \n",
       "std    2.858583e+09  139880.127217      0.863352      0.668374    652.021869   \n",
       "min    1.000102e+06   78000.000000      1.000000      0.500000    370.000000   \n",
       "25%    2.172000e+09  299000.000000      3.000000      1.500000   1330.000000   \n",
       "50%    3.936900e+09  399950.000000      3.000000      2.000000   1730.000000   \n",
       "75%    7.327500e+09  518875.000000      4.000000      2.500000   2220.000000   \n",
       "max    9.900000e+09  700000.000000     11.000000      7.500000   5461.000000   \n",
       "\n",
       "           sqft_lot        floors    waterfront          view     condition  \\\n",
       "count  1.712200e+04  17122.000000  17122.000000  17122.000000  17122.000000   \n",
       "mean   1.339702e+04      1.435814      0.001635      0.117802      3.399486   \n",
       "std    3.580784e+04      0.535736      0.040407      0.519696      0.640673   \n",
       "min    5.200000e+02      1.000000      0.000000      0.000000      1.000000   \n",
       "25%    5.000000e+03      1.000000      0.000000      0.000000      3.000000   \n",
       "50%    7.434000e+03      1.000000      0.000000      0.000000      3.000000   \n",
       "75%    1.000000e+04      2.000000      0.000000      0.000000      4.000000   \n",
       "max    1.651359e+06      3.500000      1.000000      4.000000      5.000000   \n",
       "\n",
       "       ...    sqft_above  sqft_basement      yr_built  yr_renovated  \\\n",
       "count  ...  17122.000000   17122.000000  17122.000000  17122.000000   \n",
       "mean   ...   1573.920336     241.322567   1970.482070     49.821633   \n",
       "std    ...    610.607798     379.019720     28.482936    311.175657   \n",
       "min    ...    370.000000       0.000000   1900.000000      0.000000   \n",
       "25%    ...   1130.000000       0.000000   1952.000000      0.000000   \n",
       "50%    ...   1420.000000       0.000000   1973.000000      0.000000   \n",
       "75%    ...   1899.750000     460.000000   1994.000000      0.000000   \n",
       "max    ...   5450.000000    2196.000000   2015.000000   2015.000000   \n",
       "\n",
       "            zipcode           lat          long  sqft_living15     sqft_lot15  \\\n",
       "count  17122.000000  17122.000000  17122.000000   17122.000000   17122.000000   \n",
       "mean   98079.357552     47.545336   -122.216268    1805.952692   11789.257680   \n",
       "std       53.790044      0.147010      0.142910     512.272202   24615.187701   \n",
       "min    98001.000000     47.155900   -122.519000     399.000000     651.000000   \n",
       "25%    98033.000000     47.435300   -122.331000    1430.000000    5026.000000   \n",
       "50%    98065.000000     47.549100   -122.247000    1720.000000    7500.000000   \n",
       "75%    98118.000000     47.681075   -122.129000    2120.000000    9624.750000   \n",
       "max    98199.000000     47.777600   -121.315000    4410.000000  438213.000000   \n",
       "\n",
       "       yrs_since_renovation  \n",
       "count          17122.000000  \n",
       "mean              43.152611  \n",
       "std               28.149455  \n",
       "min                0.000000  \n",
       "25%               19.000000  \n",
       "50%               40.000000  \n",
       "75%               62.000000  \n",
       "max              115.000000  \n",
       "\n",
       "[8 rows x 21 columns]"
      ]
     },
     "execution_count": 12,
     "metadata": {},
     "output_type": "execute_result"
    }
   ],
   "source": [
    "# check for any placeholder values (min/max values that don't make sense)\n",
    "# looks like there is one placeholder value (or major outlier) of 33 bedrooms, going to drop that row\n",
    "\n",
    "df.describe()\n",
    "df.drop(df.index[df['bedrooms'] == 33], inplace = True)\n",
    "df.describe()"
   ]
  },
  {
   "cell_type": "code",
   "execution_count": 13,
   "metadata": {},
   "outputs": [
    {
     "data": {
      "text/plain": [
       "<matplotlib.axes._subplots.AxesSubplot at 0x1a16bc1310>"
      ]
     },
     "execution_count": 13,
     "metadata": {},
     "output_type": "execute_result"
    },
    {
     "data": {
      "image/png": "[encoded data removed]",
      "text/plain": [
       "<Figure size 432x288 with 1 Axes>"
      ]
     },
     "metadata": {
      "needs_background": "light"
     },
     "output_type": "display_data"
    }
   ],
   "source": [
    "# boxplot in order to check for outliers and shape of distribution\n",
    "\n",
    "df.boxplot('price')"
   ]
  },
  {
   "cell_type": "markdown",
   "metadata": {},
   "source": [
    "****\n",
    "Next, the relatonship between the individual predictors and the price of home sold will be explored. This section will include the posed questions. \n",
    "****"
   ]
  },
  {
   "cell_type": "code",
   "execution_count": 14,
   "metadata": {},
   "outputs": [
    {
     "name": "stdout",
     "output_type": "stream",
     "text": [
      "bedrooms\n",
      "1     311275.312169\n",
      "2     369114.026398\n",
      "3     396266.400866\n",
      "4     446159.325907\n",
      "5     461148.266958\n",
      "6     468239.493333\n",
      "7     477230.944444\n",
      "8     512571.428571\n",
      "9     583333.000000\n",
      "10    655000.000000\n",
      "11    520000.000000\n",
      "Name: price, dtype: float64\n"
     ]
    },
    {
     "data": {
      "text/plain": [
       "Text(0.5, 1.0, 'Average Price of Home Based on Bedrooms')"
      ]
     },
     "execution_count": 14,
     "metadata": {},
     "output_type": "execute_result"
    },
    {
     "data": {
      "image/png": "[encoded data removed]",
      "text/plain": [
       "<Figure size 432x288 with 1 Axes>"
      ]
     },
     "metadata": {
      "needs_background": "light"
     },
     "output_type": "display_data"
    }
   ],
   "source": [
    "# grouping price by number of bedrooms\n",
    "\n",
    "dbr = df.copy()\n",
    "print(dbr.groupby(['bedrooms'])['price'].mean())\n",
    "ax = dbr.groupby(['bedrooms'])['price'].mean().plot(kind = 'bar')\n",
    "ax.set_xlabel(\"Bedrooms in Home\")\n",
    "ax.set_ylabel(\"Average Price of Home Sold ($)\")\n",
    "ax.set_title(\"Average Price of Home Based on Bedrooms\")"
   ]
  },
  {
   "cell_type": "code",
   "execution_count": 15,
   "metadata": {},
   "outputs": [
    {
     "data": {
      "text/plain": [
       "Text(0, 0.5, 'Average Price of Home Sold ($)')"
      ]
     },
     "execution_count": 15,
     "metadata": {},
     "output_type": "execute_result"
    },
    {
     "data": {
      "image/png": "[encoded data removed]",
      "text/plain": [
       "<Figure size 432x288 with 1 Axes>"
      ]
     },
     "metadata": {
      "needs_background": "light"
     },
     "output_type": "display_data"
    }
   ],
   "source": [
    "# grouping price by number of bathrooms\n",
    "\n",
    "dr = df.copy()\n",
    "ax = dr.groupby(['bathrooms'])['price'].mean().plot(kind = 'bar')\n",
    "ax.set_ylabel(\"Average Price of Home Sold ($)\")"
   ]
  },
  {
   "cell_type": "code",
   "execution_count": 16,
   "metadata": {},
   "outputs": [
    {
     "data": {
      "text/plain": [
       "Text(0.5, 1.0, 'Average Price of Home Based on Grade')"
      ]
     },
     "execution_count": 16,
     "metadata": {},
     "output_type": "execute_result"
    },
    {
     "data": {
      "image/png": "[encoded data removed]",
      "text/plain": [
       "<Figure size 432x288 with 1 Axes>"
      ]
     },
     "metadata": {
      "needs_background": "light"
     },
     "output_type": "display_data"
    }
   ],
   "source": [
    "# grouping price by grade of home\n",
    "\n",
    "dg = df.copy()\n",
    "ax = dg.groupby(['grade'])['price'].mean().plot(kind = 'bar')\n",
    "ax.set_xlabel(\"Grade of Home\")\n",
    "ax.set_ylabel(\"Average Price of Home Sold ($)\")\n",
    "ax.set_title(\"Average Price of Home Based on Grade\")"
   ]
  },
  {
   "cell_type": "code",
   "execution_count": 17,
   "metadata": {},
   "outputs": [
    {
     "data": {
      "text/plain": [
       "Text(0.5, 1.0, 'Top 20 Zipcodes for Home Sales')"
      ]
     },
     "execution_count": 17,
     "metadata": {},
     "output_type": "execute_result"
    },
    {
     "data": {
      "image/png": "[encoded data removed]",
      "text/plain": [
       "<Figure size 432x288 with 1 Axes>"
      ]
     },
     "metadata": {
      "needs_background": "light"
     },
     "output_type": "display_data"
    }
   ],
   "source": [
    "# What are the zipcodes for highest number of home sales?\n",
    "# plotting number of homes sold by zipcode\n",
    "\n",
    "dz = df.copy()\n",
    "dztop20 = dz['zipcode'].value_counts().head(20)\n",
    "ax = dztop20.plot(kind = 'bar', x = 'zipcode', y = dz['zipcode'].value_counts())\n",
    "ax.set_xlabel(\"Zipcodes\")\n",
    "ax.set_ylabel(\"Number of Homes Sold\")\n",
    "ax.set_title(\"Top 20 Zipcodes for Home Sales\")"
   ]
  },
  {
   "cell_type": "code",
   "execution_count": 18,
   "metadata": {},
   "outputs": [
    {
     "data": {
      "text/plain": [
       "Text(0.5, 1.0, 'Top 20 Zipcodes for Home Sale Prices')"
      ]
     },
     "execution_count": 18,
     "metadata": {},
     "output_type": "execute_result"
    },
    {
     "data": {
      "image/png": "[encoded data removed]",
      "text/plain": [
       "<Figure size 432x288 with 1 Axes>"
      ]
     },
     "metadata": {
      "needs_background": "light"
     },
     "output_type": "display_data"
    }
   ],
   "source": [
    "# What are the zipcodes for highest average price of home?\n",
    "# plotting mean price of homes by zipcode\n",
    "\n",
    "dz = df.copy()\n",
    "ax = dz.groupby(['zipcode'])['price'].mean().sort_values(ascending = False).head(20).plot(kind = 'bar')\n",
    "ax.set_xlabel(\"Zipcodes\")\n",
    "ax.set_ylabel(\"Average Price of Home Sold\")\n",
    "ax.set_title(\"Top 20 Zipcodes for Home Sale Prices\")"
   ]
  },
  {
   "cell_type": "code",
   "execution_count": 19,
   "metadata": {
    "scrolled": true
   },
   "outputs": [
    {
     "data": {
      "text/plain": [
       "Text(0.5, 1.0, 'Top 20 Zipcodes for Home Sale Prices')"
      ]
     },
     "execution_count": 19,
     "metadata": {},
     "output_type": "execute_result"
    },
    {
     "data": {
      "image/png": "[encoded data removed]",
      "text/plain": [
       "<Figure size 432x288 with 1 Axes>"
      ]
     },
     "metadata": {
      "needs_background": "light"
     },
     "output_type": "display_data"
    }
   ],
   "source": [
    "# What are the zipcodes for highest cumulative sales of homes?\n",
    "# plotting cumulative sales prices by zipcode\n",
    "\n",
    "ds = df.copy()\n",
    "ax = ds.groupby(['zipcode'])['price'].sum().sort_values(ascending = False).head(20).plot(kind = 'bar')\n",
    "ax.set_xlabel(\"Zipcodes\")\n",
    "ax.set_ylabel(\"Cumulative Home Sales\")\n",
    "ax.set_title(\"Top 20 Zipcodes for Home Sale Prices\")"
   ]
  },
  {
   "cell_type": "code",
   "execution_count": 20,
   "metadata": {},
   "outputs": [
    {
     "data": {
      "image/png": "[encoded data removed]",
      "text/plain": [
       "<Figure size 432x288 with 2 Axes>"
      ]
     },
     "metadata": {
      "needs_background": "light"
     },
     "output_type": "display_data"
    },
    {
     "data": {
      "text/plain": [
       "<Figure size 432x288 with 0 Axes>"
      ]
     },
     "metadata": {},
     "output_type": "display_data"
    }
   ],
   "source": [
    "# where in king county are the houses being sold, and at what price?\n",
    "# plotting a density color bar map showing home prices by lat and long coordinates\n",
    "# the northwest corner of the county contains the highest selling homes\n",
    "\n",
    "dl = df.copy()\n",
    "plt.scatter(x = dl['long'], y = dl['lat'], c = dl['price'])\n",
    "\n",
    "cbar = plt.colorbar()\n",
    "cbar.set_label('Price of Homes')\n",
    "plt.xlabel('Longitude')\n",
    "plt.ylabel('Latitude')\n",
    "plt.title('Home Values')\n",
    "fig = plt.figure()\n",
    "plt.show()\n",
    "\n",
    "fig.savefig('plot.jpeg')"
   ]
  },
  {
   "cell_type": "markdown",
   "metadata": {},
   "source": [
    "****\n",
    "Finally, variables will be chosen as predictors and used to create a multivariate linear regression using statsmodels and validated using sklearn.\n",
    "****"
   ]
  },
  {
   "cell_type": "code",
   "execution_count": 21,
   "metadata": {
    "scrolled": true
   },
   "outputs": [
    {
     "name": "stderr",
     "output_type": "stream",
     "text": [
      "/Users/stacyshingleton/opt/anaconda3/lib/python3.7/site-packages/numpy/core/fromnumeric.py:2495: FutureWarning: Method .ptp is deprecated and will be removed in a future version. Use numpy.ptp instead.\n",
      "  return ptp(axis=axis, out=out, **kwargs)\n"
     ]
    },
    {
     "name": "stdout",
     "output_type": "stream",
     "text": [
      "Add  sqft_above                     with p-value 0.0\n",
      "Add  sqft_basement                  with p-value 0.0\n",
      "Add  grade                          with p-value 0.0\n",
      "Add  yr_built                       with p-value 0.0\n",
      "Add  lat                            with p-value 0.0\n",
      "Add  sqft_living                    with p-value 0.0\n",
      "Add  view                           with p-value 3.30291e-89\n",
      "Add  sqft_living15                  with p-value 2.98332e-68\n",
      "Add  floors                         with p-value 9.07787e-68\n",
      "Add  condition                      with p-value 2.34201e-78\n",
      "Add  bathrooms                      with p-value 2.95083e-33\n",
      "Add  sqft_lot                       with p-value 1.8756e-35\n",
      "Add  bedrooms                       with p-value 1.74611e-17\n",
      "Add  zipcode                        with p-value 6.31161e-15\n",
      "Add  waterfront                     with p-value 4.90714e-10\n",
      "Add  long                           with p-value 0.000721294\n",
      "resulting features:\n",
      "['sqft_above', 'sqft_basement', 'grade', 'yr_built', 'lat', 'sqft_living', 'view', 'sqft_living15', 'floors', 'condition', 'bathrooms', 'sqft_lot', 'bedrooms', 'zipcode', 'waterfront', 'long']\n"
     ]
    }
   ],
   "source": [
    "# calculating and displaying each columns p values. The threshold of acceptance is 0.01.\n",
    "\n",
    "import statsmodels.api as sm\n",
    "outcome = 'price'\n",
    "predictors = df.drop(['price','date', 'id'], axis=1)\n",
    "pred_sum = '+'.join(predictors.columns)\n",
    "formula = outcome + '~' + pred_sum\n",
    "\n",
    "def stepwise_selection(X, y, \n",
    "                       initial_list=[], \n",
    "                       threshold_in=0.01, \n",
    "                       threshold_out = 0.05, \n",
    "                       verbose=True):\n",
    "    \"\"\" Perform a forward-backward feature selection \n",
    "    based on p-value from statsmodels.api.OLS\n",
    "    Arguments:\n",
    "        X - pandas.DataFrame with candidate features\n",
    "        y - list-like with the target\n",
    "        initial_list - list of features to start with (column names of X)\n",
    "        threshold_in - include a feature if its p-value < threshold_in\n",
    "        threshold_out - exclude a feature if its p-value > threshold_out\n",
    "        verbose - whether to print the sequence of inclusions and exclusions\n",
    "    Returns: list of selected features \n",
    "    Always set threshold_in < threshold_out to avoid infinite looping.\n",
    "    See https://en.wikipedia.org/wiki/Stepwise_regression for the details\n",
    "    \"\"\"\n",
    "    included = list(initial_list)\n",
    "    while True:\n",
    "        changed=False\n",
    "        # forward step\n",
    "        excluded = list(set(X.columns)-set(included))\n",
    "        new_pval = pd.Series(index=excluded)\n",
    "        for new_column in excluded:\n",
    "            model = sm.OLS(y, sm.add_constant(pd.DataFrame(X[included+[new_column]]))).fit()\n",
    "            new_pval[new_column] = model.pvalues[new_column]\n",
    "        best_pval = new_pval.min()\n",
    "        if best_pval < threshold_in:\n",
    "            best_feature = new_pval.idxmin()\n",
    "            included.append(best_feature)\n",
    "            changed=True\n",
    "            if verbose:\n",
    "                print('Add  {:30} with p-value {:.6}'.format(best_feature, best_pval))\n",
    "\n",
    "        # backward step\n",
    "        model = sm.OLS(y, sm.add_constant(pd.DataFrame(X[included]))).fit()\n",
    "        # use all coefs except intercept\n",
    "        pvalues = model.pvalues.iloc[1:]\n",
    "        worst_pval = pvalues.max() # null if pvalues is empty\n",
    "        if worst_pval > threshold_out:\n",
    "            changed=True\n",
    "            worst_feature = pvalues.argmax()\n",
    "            included.remove(worst_feature)\n",
    "            if verbose:\n",
    "                print('Drop {:30} with p-value {:.6}'.format(worst_feature, worst_pval))\n",
    "        if not changed:\n",
    "            break\n",
    "    return included\n",
    "\n",
    "\n",
    "result = stepwise_selection(predictors, df['price'], verbose=True)\n",
    "print('resulting features:')\n",
    "print(result)"
   ]
  },
  {
   "cell_type": "code",
   "execution_count": 22,
   "metadata": {},
   "outputs": [
    {
     "data": {
      "text/html": [
       "<div>\n",
       "<style scoped>\n",
       "    .dataframe tbody tr th:only-of-type {\n",
       "        vertical-align: middle;\n",
       "    }\n",
       "\n",
       "    .dataframe tbody tr th {\n",
       "        vertical-align: top;\n",
       "    }\n",
       "\n",
       "    .dataframe thead th {\n",
       "        text-align: right;\n",
       "    }\n",
       "</style>\n",
       "<table border=\"1\" class=\"dataframe\">\n",
       "  <thead>\n",
       "    <tr style=\"text-align: right;\">\n",
       "      <th></th>\n",
       "      <th>Attribute_1</th>\n",
       "      <th>Attribute_2</th>\n",
       "      <th>Correlation_Coefficient</th>\n",
       "    </tr>\n",
       "  </thead>\n",
       "  <tbody>\n",
       "    <tr>\n",
       "      <td>22</td>\n",
       "      <td>price</td>\n",
       "      <td>price</td>\n",
       "      <td>1.000000</td>\n",
       "    </tr>\n",
       "    <tr>\n",
       "      <td>31</td>\n",
       "      <td>price</td>\n",
       "      <td>grade</td>\n",
       "      <td>0.502805</td>\n",
       "    </tr>\n",
       "    <tr>\n",
       "      <td>37</td>\n",
       "      <td>price</td>\n",
       "      <td>lat</td>\n",
       "      <td>0.478112</td>\n",
       "    </tr>\n",
       "    <tr>\n",
       "      <td>25</td>\n",
       "      <td>price</td>\n",
       "      <td>sqft_living</td>\n",
       "      <td>0.471839</td>\n",
       "    </tr>\n",
       "    <tr>\n",
       "      <td>39</td>\n",
       "      <td>price</td>\n",
       "      <td>sqft_living15</td>\n",
       "      <td>0.430498</td>\n",
       "    </tr>\n",
       "    <tr>\n",
       "      <td>32</td>\n",
       "      <td>price</td>\n",
       "      <td>sqft_above</td>\n",
       "      <td>0.373772</td>\n",
       "    </tr>\n",
       "    <tr>\n",
       "      <td>24</td>\n",
       "      <td>price</td>\n",
       "      <td>bathrooms</td>\n",
       "      <td>0.362673</td>\n",
       "    </tr>\n",
       "    <tr>\n",
       "      <td>27</td>\n",
       "      <td>price</td>\n",
       "      <td>floors</td>\n",
       "      <td>0.229116</td>\n",
       "    </tr>\n",
       "    <tr>\n",
       "      <td>23</td>\n",
       "      <td>price</td>\n",
       "      <td>bedrooms</td>\n",
       "      <td>0.218446</td>\n",
       "    </tr>\n",
       "    <tr>\n",
       "      <td>33</td>\n",
       "      <td>price</td>\n",
       "      <td>sqft_basement</td>\n",
       "      <td>0.209544</td>\n",
       "    </tr>\n",
       "    <tr>\n",
       "      <td>29</td>\n",
       "      <td>price</td>\n",
       "      <td>view</td>\n",
       "      <td>0.145038</td>\n",
       "    </tr>\n",
       "    <tr>\n",
       "      <td>26</td>\n",
       "      <td>price</td>\n",
       "      <td>sqft_lot</td>\n",
       "      <td>0.073449</td>\n",
       "    </tr>\n",
       "    <tr>\n",
       "      <td>40</td>\n",
       "      <td>price</td>\n",
       "      <td>sqft_lot15</td>\n",
       "      <td>0.069710</td>\n",
       "    </tr>\n",
       "    <tr>\n",
       "      <td>38</td>\n",
       "      <td>price</td>\n",
       "      <td>long</td>\n",
       "      <td>0.064947</td>\n",
       "    </tr>\n",
       "    <tr>\n",
       "      <td>34</td>\n",
       "      <td>price</td>\n",
       "      <td>yr_built</td>\n",
       "      <td>0.059727</td>\n",
       "    </tr>\n",
       "    <tr>\n",
       "      <td>21</td>\n",
       "      <td>price</td>\n",
       "      <td>id</td>\n",
       "      <td>0.036113</td>\n",
       "    </tr>\n",
       "    <tr>\n",
       "      <td>35</td>\n",
       "      <td>price</td>\n",
       "      <td>yr_renovated</td>\n",
       "      <td>0.033723</td>\n",
       "    </tr>\n",
       "    <tr>\n",
       "      <td>28</td>\n",
       "      <td>price</td>\n",
       "      <td>waterfront</td>\n",
       "      <td>0.029650</td>\n",
       "    </tr>\n",
       "    <tr>\n",
       "      <td>30</td>\n",
       "      <td>price</td>\n",
       "      <td>condition</td>\n",
       "      <td>0.023395</td>\n",
       "    </tr>\n",
       "    <tr>\n",
       "      <td>36</td>\n",
       "      <td>price</td>\n",
       "      <td>zipcode</td>\n",
       "      <td>0.018464</td>\n",
       "    </tr>\n",
       "    <tr>\n",
       "      <td>41</td>\n",
       "      <td>price</td>\n",
       "      <td>yrs_since_renovation</td>\n",
       "      <td>-0.073130</td>\n",
       "    </tr>\n",
       "  </tbody>\n",
       "</table>\n",
       "</div>"
      ],
      "text/plain": [
       "   Attribute_1           Attribute_2  Correlation_Coefficient\n",
       "22       price                 price                 1.000000\n",
       "31       price                 grade                 0.502805\n",
       "37       price                   lat                 0.478112\n",
       "25       price           sqft_living                 0.471839\n",
       "39       price         sqft_living15                 0.430498\n",
       "32       price            sqft_above                 0.373772\n",
       "24       price             bathrooms                 0.362673\n",
       "27       price                floors                 0.229116\n",
       "23       price              bedrooms                 0.218446\n",
       "33       price         sqft_basement                 0.209544\n",
       "29       price                  view                 0.145038\n",
       "26       price              sqft_lot                 0.073449\n",
       "40       price            sqft_lot15                 0.069710\n",
       "38       price                  long                 0.064947\n",
       "34       price              yr_built                 0.059727\n",
       "21       price                    id                 0.036113\n",
       "35       price          yr_renovated                 0.033723\n",
       "28       price            waterfront                 0.029650\n",
       "30       price             condition                 0.023395\n",
       "36       price               zipcode                 0.018464\n",
       "41       price  yrs_since_renovation                -0.073130"
      ]
     },
     "execution_count": 22,
     "metadata": {},
     "output_type": "execute_result"
    }
   ],
   "source": [
    "# calculating correlation of each variable to price\n",
    "\n",
    "corr = df.corr()\n",
    "corr = corr.stack().reset_index()\n",
    "corr = corr.rename(columns = {'level_0':'Attribute_1', 'level_1':'Attribute_2', 0:'Correlation_Coefficient'})\n",
    "corr = corr.loc[corr['Attribute_1'] == 'price']\n",
    "corr.sort_values(by = 'Correlation_Coefficient', ascending = False)"
   ]
  },
  {
   "cell_type": "code",
   "execution_count": 23,
   "metadata": {
    "scrolled": true
   },
   "outputs": [
    {
     "data": {
      "text/html": [
       "<div>\n",
       "<style scoped>\n",
       "    .dataframe tbody tr th:only-of-type {\n",
       "        vertical-align: middle;\n",
       "    }\n",
       "\n",
       "    .dataframe tbody tr th {\n",
       "        vertical-align: top;\n",
       "    }\n",
       "\n",
       "    .dataframe thead th {\n",
       "        text-align: right;\n",
       "    }\n",
       "</style>\n",
       "<table border=\"1\" class=\"dataframe\">\n",
       "  <thead>\n",
       "    <tr style=\"text-align: right;\">\n",
       "      <th></th>\n",
       "      <th>Attribute_1</th>\n",
       "      <th>Attribute_2</th>\n",
       "      <th>Correlation_Coefficient</th>\n",
       "    </tr>\n",
       "  </thead>\n",
       "  <tbody>\n",
       "    <tr>\n",
       "      <td>293</td>\n",
       "      <td>yr_built</td>\n",
       "      <td>yrs_since_renovation</td>\n",
       "      <td>-0.946429</td>\n",
       "    </tr>\n",
       "    <tr>\n",
       "      <td>433</td>\n",
       "      <td>yrs_since_renovation</td>\n",
       "      <td>yr_built</td>\n",
       "      <td>-0.946429</td>\n",
       "    </tr>\n",
       "    <tr>\n",
       "      <td>95</td>\n",
       "      <td>sqft_living</td>\n",
       "      <td>sqft_above</td>\n",
       "      <td>0.821740</td>\n",
       "    </tr>\n",
       "    <tr>\n",
       "      <td>235</td>\n",
       "      <td>sqft_above</td>\n",
       "      <td>sqft_living</td>\n",
       "      <td>0.821740</td>\n",
       "    </tr>\n",
       "  </tbody>\n",
       "</table>\n",
       "</div>"
      ],
      "text/plain": [
       "              Attribute_1           Attribute_2  Correlation_Coefficient\n",
       "293              yr_built  yrs_since_renovation                -0.946429\n",
       "433  yrs_since_renovation              yr_built                -0.946429\n",
       "95            sqft_living            sqft_above                 0.821740\n",
       "235            sqft_above           sqft_living                 0.821740"
      ]
     },
     "execution_count": 23,
     "metadata": {},
     "output_type": "execute_result"
    }
   ],
   "source": [
    "# displaying correlation values that are above a threshold of 0.8 \n",
    "# helps determine which columns are too closely related to use together\n",
    "\n",
    "corr = df.corr()\n",
    "corr = corr.stack().reset_index()\n",
    "corr = corr.rename(columns = {'level_0':'Attribute_1', 'level_1':'Attribute_2', 0:'Correlation_Coefficient'})\n",
    "corr = corr.loc[corr['Attribute_1'] != corr['Attribute_2']]\n",
    "corr.loc[corr['Correlation_Coefficient'].abs() > 0.75].sort_values(by = 'Correlation_Coefficient')"
   ]
  },
  {
   "cell_type": "code",
   "execution_count": 27,
   "metadata": {
    "scrolled": false
   },
   "outputs": [],
   "source": [
    "# calculating OLS regression results thru statsmodels\n",
    "\n"
   ]
  },
  {
   "cell_type": "code",
   "execution_count": 26,
   "metadata": {},
   "outputs": [
    {
     "data": {
      "text/html": [
       "<table class=\"simpletable\">\n",
       "<caption>OLS Regression Results</caption>\n",
       "<tr>\n",
       "  <th>Dep. Variable:</th>          <td>price</td>      <th>  R-squared:         </th>  <td>   0.562</td>  \n",
       "</tr>\n",
       "<tr>\n",
       "  <th>Model:</th>                   <td>OLS</td>       <th>  Adj. R-squared:    </th>  <td>   0.562</td>  \n",
       "</tr>\n",
       "<tr>\n",
       "  <th>Method:</th>             <td>Least Squares</td>  <th>  F-statistic:       </th>  <td>   3134.</td>  \n",
       "</tr>\n",
       "<tr>\n",
       "  <th>Date:</th>             <td>Tue, 18 Feb 2020</td> <th>  Prob (F-statistic):</th>   <td>  0.00</td>   \n",
       "</tr>\n",
       "<tr>\n",
       "  <th>Time:</th>                 <td>10:30:09</td>     <th>  Log-Likelihood:    </th> <td>-2.2010e+05</td>\n",
       "</tr>\n",
       "<tr>\n",
       "  <th>No. Observations:</th>      <td> 17122</td>      <th>  AIC:               </th>  <td>4.402e+05</td> \n",
       "</tr>\n",
       "<tr>\n",
       "  <th>Df Residuals:</th>          <td> 17114</td>      <th>  BIC:               </th>  <td>4.403e+05</td> \n",
       "</tr>\n",
       "<tr>\n",
       "  <th>Df Model:</th>              <td>     7</td>      <th>                     </th>      <td> </td>     \n",
       "</tr>\n",
       "<tr>\n",
       "  <th>Covariance Type:</th>      <td>nonrobust</td>    <th>                     </th>      <td> </td>     \n",
       "</tr>\n",
       "</table>\n",
       "<table class=\"simpletable\">\n",
       "<tr>\n",
       "        <td></td>           <th>coef</th>     <th>std err</th>      <th>t</th>      <th>P>|t|</th>  <th>[0.025</th>    <th>0.975]</th>  \n",
       "</tr>\n",
       "<tr>\n",
       "  <th>const</th>         <td>-2.324e+07</td> <td> 2.31e+05</td> <td> -100.623</td> <td> 0.000</td> <td>-2.37e+07</td> <td>-2.28e+07</td>\n",
       "</tr>\n",
       "<tr>\n",
       "  <th>bedrooms</th>      <td>-7487.8067</td> <td> 1069.821</td> <td>   -6.999</td> <td> 0.000</td> <td>-9584.766</td> <td>-5390.848</td>\n",
       "</tr>\n",
       "<tr>\n",
       "  <th>sqft_living</th>   <td>   64.8643</td> <td>    2.043</td> <td>   31.747</td> <td> 0.000</td> <td>   60.859</td> <td>   68.869</td>\n",
       "</tr>\n",
       "<tr>\n",
       "  <th>grade</th>         <td> 3.971e+04</td> <td> 1161.546</td> <td>   34.183</td> <td> 0.000</td> <td> 3.74e+04</td> <td>  4.2e+04</td>\n",
       "</tr>\n",
       "<tr>\n",
       "  <th>sqft_living15</th> <td>   34.7755</td> <td>    2.009</td> <td>   17.311</td> <td> 0.000</td> <td>   30.838</td> <td>   38.713</td>\n",
       "</tr>\n",
       "<tr>\n",
       "  <th>lat</th>           <td>  4.88e+05</td> <td> 4861.891</td> <td>  100.369</td> <td> 0.000</td> <td> 4.78e+05</td> <td> 4.98e+05</td>\n",
       "</tr>\n",
       "<tr>\n",
       "  <th>floors</th>        <td> 1011.9572</td> <td> 1593.156</td> <td>    0.635</td> <td> 0.525</td> <td>-2110.791</td> <td> 4134.706</td>\n",
       "</tr>\n",
       "<tr>\n",
       "  <th>bathrooms</th>     <td> 2186.3296</td> <td> 1647.923</td> <td>    1.327</td> <td> 0.185</td> <td>-1043.769</td> <td> 5416.428</td>\n",
       "</tr>\n",
       "</table>\n",
       "<table class=\"simpletable\">\n",
       "<tr>\n",
       "  <th>Omnibus:</th>       <td>558.348</td> <th>  Durbin-Watson:     </th> <td>   1.988</td> \n",
       "</tr>\n",
       "<tr>\n",
       "  <th>Prob(Omnibus):</th> <td> 0.000</td>  <th>  Jarque-Bera (JB):  </th> <td> 623.819</td> \n",
       "</tr>\n",
       "<tr>\n",
       "  <th>Skew:</th>          <td> 0.436</td>  <th>  Prob(JB):          </th> <td>3.46e-136</td>\n",
       "</tr>\n",
       "<tr>\n",
       "  <th>Kurtosis:</th>      <td> 3.340</td>  <th>  Cond. No.          </th> <td>8.72e+05</td> \n",
       "</tr>\n",
       "</table><br/><br/>Warnings:<br/>[1] Standard Errors assume that the covariance matrix of the errors is correctly specified.<br/>[2] The condition number is large, 8.72e+05. This might indicate that there are<br/>strong multicollinearity or other numerical problems."
      ],
      "text/plain": [
       "<class 'statsmodels.iolib.summary.Summary'>\n",
       "\"\"\"\n",
       "                            OLS Regression Results                            \n",
       "==============================================================================\n",
       "Dep. Variable:                  price   R-squared:                       0.562\n",
       "Model:                            OLS   Adj. R-squared:                  0.562\n",
       "Method:                 Least Squares   F-statistic:                     3134.\n",
       "Date:                Tue, 18 Feb 2020   Prob (F-statistic):               0.00\n",
       "Time:                        10:30:09   Log-Likelihood:            -2.2010e+05\n",
       "No. Observations:               17122   AIC:                         4.402e+05\n",
       "Df Residuals:                   17114   BIC:                         4.403e+05\n",
       "Df Model:                           7                                         \n",
       "Covariance Type:            nonrobust                                         \n",
       "=================================================================================\n",
       "                    coef    std err          t      P>|t|      [0.025      0.975]\n",
       "---------------------------------------------------------------------------------\n",
       "const         -2.324e+07   2.31e+05   -100.623      0.000   -2.37e+07   -2.28e+07\n",
       "bedrooms      -7487.8067   1069.821     -6.999      0.000   -9584.766   -5390.848\n",
       "sqft_living      64.8643      2.043     31.747      0.000      60.859      68.869\n",
       "grade          3.971e+04   1161.546     34.183      0.000    3.74e+04     4.2e+04\n",
       "sqft_living15    34.7755      2.009     17.311      0.000      30.838      38.713\n",
       "lat             4.88e+05   4861.891    100.369      0.000    4.78e+05    4.98e+05\n",
       "floors         1011.9572   1593.156      0.635      0.525   -2110.791    4134.706\n",
       "bathrooms      2186.3296   1647.923      1.327      0.185   -1043.769    5416.428\n",
       "==============================================================================\n",
       "Omnibus:                      558.348   Durbin-Watson:                   1.988\n",
       "Prob(Omnibus):                  0.000   Jarque-Bera (JB):              623.819\n",
       "Skew:                           0.436   Prob(JB):                    3.46e-136\n",
       "Kurtosis:                       3.340   Cond. No.                     8.72e+05\n",
       "==============================================================================\n",
       "\n",
       "Warnings:\n",
       "[1] Standard Errors assume that the covariance matrix of the errors is correctly specified.\n",
       "[2] The condition number is large, 8.72e+05. This might indicate that there are\n",
       "strong multicollinearity or other numerical problems.\n",
       "\"\"\""
      ]
     },
     "execution_count": 26,
     "metadata": {},
     "output_type": "execute_result"
    }
   ],
   "source": [
    "# calculating OLS regression results thru statsmodels\n",
    "# includes y intercept constant\n",
    "\n",
    "import statsmodels.api as sm\n",
    "\n",
    "X = df[['bedrooms', 'sqft_living', 'grade', 'sqft_living15', 'lat', 'floors', 'bathrooms']]\n",
    "X = sm.add_constant(X)\n",
    "y = df['price']\n",
    "\n",
    "model = sm.OLS(y,X).fit()\n",
    "predictions = model.predict(X)\n",
    "model.summary()"
   ]
  },
  {
   "cell_type": "code",
   "execution_count": 28,
   "metadata": {},
   "outputs": [
    {
     "name": "stderr",
     "output_type": "stream",
     "text": [
      "/Users/stacyshingleton/opt/anaconda3/lib/python3.7/site-packages/ipykernel_launcher.py:6: UserWarning: Matplotlib is currently using module://ipykernel.pylab.backend_inline, which is a non-GUI backend, so cannot show the figure.\n",
      "  \n"
     ]
    },
    {
     "data": {
      "image/png": "[encoded data removed]",
      "text/plain": [
       "<Figure size 432x288 with 1 Axes>"
      ]
     },
     "metadata": {
      "needs_background": "light"
     },
     "output_type": "display_data"
    }
   ],
   "source": [
    "# Q-Q plot thru scipy\n",
    "\n",
    "import scipy.stats as stats\n",
    "residuals = model.resid\n",
    "fig = sm.graphics.qqplot(residuals, dist=stats.norm, line='45', fit=True)\n",
    "fig.show()"
   ]
  },
  {
   "cell_type": "code",
   "execution_count": 29,
   "metadata": {},
   "outputs": [
    {
     "name": "stdout",
     "output_type": "stream",
     "text": [
      "training data mean squared error: 8.67e+09\n",
      "test data mean squared error: 8.19e+09\n"
     ]
    }
   ],
   "source": [
    "# calculating the train-test-split\n",
    "# calculating mean square error from the train and test split data\n",
    "\n",
    "from sklearn.model_selection import train_test_split\n",
    "from sklearn.metrics import mean_squared_error, mean_absolute_error\n",
    "\n",
    "X_train, X_test, y_train, y_test = train_test_split(X, y, test_size = 0.2, random_state = 42)\n",
    "\n",
    "linreg_sm = sm.OLS(y_train, X_train).fit()\n",
    "\n",
    "y_hat_train = linreg_sm.predict(X_train)\n",
    "y_hat_test = linreg_sm.predict(X_test)\n",
    "\n",
    "train_residuals = y_hat_train - y_train\n",
    "test_residuals = y_hat_test - y_test\n",
    "\n",
    "train_mse = (mean_squared_error(y_train, y_hat_train))\n",
    "test_mse = (mean_squared_error(y_test, y_hat_test))\n",
    "\n",
    "sci_not_train_mse = \"{:.2e}\".format(train_mse)\n",
    "sci_not_test_mse = \"{:.2e}\".format(test_mse)\n",
    "\n",
    "print('training data mean squared error:', sci_not_train_mse)\n",
    "print('test data mean squared error:',sci_not_test_mse)"
   ]
  },
  {
   "cell_type": "code",
   "execution_count": 30,
   "metadata": {},
   "outputs": [
    {
     "name": "stdout",
     "output_type": "stream",
     "text": [
      "k fold value of mean squared error, 5 partitions: 8.58e+09\n",
      "k fold value of mean squared error, 10 partitions: 8.58e+09\n",
      "k fold value of mean squared error, 20 partitions: 8.58e+09\n"
     ]
    }
   ],
   "source": [
    "# k fold cross validation for mean squared error\n",
    "\n",
    "from sklearn.model_selection import cross_val_score\n",
    "from sklearn.linear_model import LinearRegression\n",
    "linreg_skl = LinearRegression()\n",
    "\n",
    "cv_5_results  = -1 * np.mean(cross_val_score(linreg_skl, X, y, cv=5,  scoring='neg_mean_squared_error'))\n",
    "cv_10_results = -1 * np.mean(cross_val_score(linreg_skl, X, y, cv=10, scoring='neg_mean_squared_error'))\n",
    "cv_20_results = -1 * np.mean(cross_val_score(linreg_skl, X, y, cv=20, scoring='neg_mean_squared_error'))\n",
    "\n",
    "cv_5_sci_not = \"{:.2e}\".format(cv_5_results)\n",
    "cv_10_sci_not = \"{:.2e}\".format(cv_10_results)\n",
    "cv_20_sci_not = \"{:.2e}\".format(cv_20_results)\n",
    "\n",
    "print('k fold value of mean squared error, 5 partitions:', cv_5_sci_not)\n",
    "print('k fold value of mean squared error, 10 partitions:', cv_10_sci_not)\n",
    "print('k fold value of mean squared error, 20 partitions:', cv_20_sci_not)"
   ]
  },
  {
   "cell_type": "code",
   "execution_count": 31,
   "metadata": {},
   "outputs": [
    {
     "name": "stdout",
     "output_type": "stream",
     "text": [
      "k fold value of coefficient of determination, 5 partitions: 0.5602396402230811\n",
      "k fold value of coefficient of determination, 10 partitions: 0.5593601741492712\n",
      "k fold value of coefficient of determination, 20 partitions: 0.5591504014217643\n"
     ]
    }
   ],
   "source": [
    "# k fold cross validation for coefficient of determination\n",
    "\n",
    "from sklearn.model_selection import cross_val_score\n",
    "from sklearn.linear_model import LinearRegression\n",
    "linreg_skl = LinearRegression()\n",
    "\n",
    "cv_5_results  =np.mean(cross_val_score(linreg_skl, X, y, cv=5,  scoring='r2'))\n",
    "cv_10_results =np.mean(cross_val_score(linreg_skl, X, y, cv=10, scoring='r2'))\n",
    "cv_20_results =np.mean(cross_val_score(linreg_skl, X, y, cv=20, scoring='r2'))\n",
    "\n",
    "\n",
    "print('k fold value of coefficient of determination, 5 partitions:', cv_5_results)\n",
    "print('k fold value of coefficient of determination, 10 partitions:', cv_10_results)\n",
    "print('k fold value of coefficient of determination, 20 partitions:', cv_20_results)\n",
    "\n"
   ]
  },
  {
   "cell_type": "markdown",
   "metadata": {},
   "source": [
    "****\n",
    "The R-squared value, the coefficient of determination, is 0.56 for this model. This means that 56% of the variations in home prices are explained by the independent variables,  'bedrooms', 'sqft_living', 'grade', 'sqft_living15', 'lat', 'floors', and 'bathrooms' in this model. Q-Q plots are used to model error residuals against a standard normal distribution. In the Q-Q plot seen below, it is seen that there are no major deviations from the normal distribution line, proving the earlier assumption of normality. \n",
    "\n",
    "In order to validate the multivariate linear regression model calculated with statsmodels, train-test-split and cross validation was employed. Train-test- split will split the data into two sections, one which will serve as the training data set, and the other serving as the testing data set. Each set will generate a mean squared error, and the difference between the two will summarize how well the predicted values compare to actual values. The train-test-split values calculated for this model had a negligible difference, suggesting the model is an appropriate fit. Train-test-split models will calculate a slightly different mean squared error each time the model is run due to the random split of train and test data. For this reason, K-fold cross validation is a better method used to validate the multivariate linear regression.  K-fold cross validation averages the individual results from multiple linear models which each use a different section of the test data set. K-fold, with 5, 10 and 20 partitions, was used to assess the mean squared error as well as the coefficient of determination for the model. The coefficient of determination came back exactly the same, while the mean squared error has very little difference.\n",
    "****"
   ]
  },
  {
   "cell_type": "code",
   "execution_count": null,
   "metadata": {},
   "outputs": [],
   "source": [
    "# #kde graphs\n",
    "\n",
    "# for column in df.iloc[:,2:]:\n",
    "#     print(column)\n",
    "#     df[column].plot.hist(density = True, label = column + ' histogram')\n",
    "#     df[column].plot.kde(label = column + ' kde')\n",
    "#     plt.legend()\n",
    "#     plt.show()   \n"
   ]
  },
  {
   "cell_type": "code",
   "execution_count": null,
   "metadata": {},
   "outputs": [],
   "source": [
    "# df.head()\n",
    "# df.plot(kind = 'scatter',x = 'sqft_above',y = 'price')"
   ]
  },
  {
   "cell_type": "code",
   "execution_count": null,
   "metadata": {},
   "outputs": [],
   "source": [
    "# # maybe add basement sqft to total sqft and have cat col basement 1 or 0\n",
    "# df.head()\n",
    "# df.plot(kind = 'scatter',x = 'sqft_basement',y = 'price')"
   ]
  },
  {
   "cell_type": "code",
   "execution_count": null,
   "metadata": {},
   "outputs": [],
   "source": [
    "# df.head()\n",
    "# df.plot(kind = 'scatter',x = 'yr_built',y = 'price')"
   ]
  },
  {
   "cell_type": "code",
   "execution_count": null,
   "metadata": {},
   "outputs": [],
   "source": [
    "# df.head()\n",
    "# df.plot(kind = 'scatter',x = 'sqft_living15',y = 'price')"
   ]
  },
  {
   "cell_type": "code",
   "execution_count": null,
   "metadata": {},
   "outputs": [],
   "source": [
    "# df.head()\n",
    "# df.plot(kind = 'scatter',x = 'bathrooms',y = 'price')"
   ]
  },
  {
   "cell_type": "code",
   "execution_count": null,
   "metadata": {},
   "outputs": [],
   "source": [
    "# df.head()\n",
    "# df.plot(kind = 'scatter',x = 'bedrooms',y = 'price')"
   ]
  },
  {
   "cell_type": "code",
   "execution_count": null,
   "metadata": {},
   "outputs": [],
   "source": [
    "# df.head()\n",
    "# df.plot(kind = 'scatter',x = 'sqft_living',y = 'price')"
   ]
  },
  {
   "cell_type": "code",
   "execution_count": null,
   "metadata": {},
   "outputs": [],
   "source": [
    "# df.head()\n",
    "# df.plot(kind = 'scatter',x = 'sqft_lot',y = 'price')"
   ]
  },
  {
   "cell_type": "code",
   "execution_count": null,
   "metadata": {},
   "outputs": [],
   "source": [
    "# df.head()\n",
    "# df.plot(kind = 'scatter',x = 'floors',y = 'price')"
   ]
  },
  {
   "cell_type": "code",
   "execution_count": null,
   "metadata": {},
   "outputs": [],
   "source": [
    "# df.head()\n",
    "# df.plot(kind = 'scatter',x = 'waterfront',y = 'price')"
   ]
  },
  {
   "cell_type": "code",
   "execution_count": null,
   "metadata": {},
   "outputs": [],
   "source": [
    "# df.head()\n",
    "# df.plot(kind = 'scatter',x = 'view',y = 'price')"
   ]
  },
  {
   "cell_type": "code",
   "execution_count": null,
   "metadata": {
    "scrolled": true
   },
   "outputs": [],
   "source": [
    "# df.head()\n",
    "# df.plot(kind = 'scatter',x = 'condition',y = 'price')"
   ]
  },
  {
   "cell_type": "code",
   "execution_count": null,
   "metadata": {},
   "outputs": [],
   "source": [
    "# df.head()\n",
    "# df.plot(kind = 'scatter',x = 'grade',y = 'price')"
   ]
  },
  {
   "cell_type": "code",
   "execution_count": null,
   "metadata": {},
   "outputs": [],
   "source": [
    "# df.head()\n",
    "# df.plot(kind = 'scatter',x = 'zipcode',y = 'price')"
   ]
  },
  {
   "cell_type": "code",
   "execution_count": null,
   "metadata": {},
   "outputs": [],
   "source": [
    "# df.head()\n",
    "# df.plot(kind = 'scatter',x = 'sqft_lot15',y = 'price')"
   ]
  },
  {
   "cell_type": "code",
   "execution_count": null,
   "metadata": {},
   "outputs": [],
   "source": [
    "# # further north, higher lat value\n",
    "# df.head()\n",
    "# df.plot(kind = 'scatter',x = 'lat',y = 'price')"
   ]
  },
  {
   "cell_type": "code",
   "execution_count": null,
   "metadata": {},
   "outputs": [],
   "source": [
    "# # further west, smaller number (further negative)\n",
    "# df.head()\n",
    "# df.plot(kind = 'scatter',x = 'long',y = 'price')"
   ]
  }
 ],
 "metadata": {
  "kernelspec": {
   "display_name": "Python 3",
   "language": "python",
   "name": "python3"
  },
  "language_info": {
   "codemirror_mode": {
    "name": "ipython",
    "version": 3
   },
   "file_extension": ".py",
   "mimetype": "text/x-python",
   "name": "python",
   "nbconvert_exporter": "python",
   "pygments_lexer": "ipython3",
   "version": "3.7.4"
  }
 },
 "nbformat": 4,
 "nbformat_minor": 2
}
